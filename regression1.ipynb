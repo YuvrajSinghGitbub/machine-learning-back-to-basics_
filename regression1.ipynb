{
 "cells": [
  {
   "cell_type": "markdown",
   "metadata": {},
   "source": [
    "# Multiple Linear Regression"
   ]
  },
  {
   "cell_type": "markdown",
   "metadata": {},
   "source": [
    "In multiple linear regression we have **many** independent variables and only **one** dependent vatiable."
   ]
  },
  {
   "cell_type": "markdown",
   "metadata": {},
   "source": [
    "### 1. Assumptions of a linear regression models -->"
   ]
  },
  {
   "cell_type": "markdown",
   "metadata": {},
   "source": [
    "Each LR(linear regression) model has some set of assumptions. The major of them are:\n",
    ">    1. linearity,\n",
    ">    2. honoscedosticity,\n",
    ">    3. multivatient normality,\n",
    ">    4. independance of errors, and\n",
    ">    5. lack of multicollinearity."
   ]
  },
  {
   "cell_type": "markdown",
   "metadata": {},
   "source": [
    "### 2. Dummy variables -->"
   ]
  },
  {
   "cell_type": "markdown",
   "metadata": {},
   "source": [
    "Dummy variables are one way to handel categorical value. The idea is to create different features derived from the different categories. Example:\n",
    "> colors: {red, blue, green, red, green}\n",
    "\n",
    "Here the three categories are {red, blue, green}. The three different columns are created what will hold boolean values. If the i<sup>th</sup> was red then only the _red_ column will have 1 in it and all other zeros. This is repeated for every training example.\n",
    "\n",
    "This is a great way to handel categorical values, but it can lead to some problems. The major one is the _multi-collinearity_."
   ]
  },
  {
   "cell_type": "markdown",
   "metadata": {},
   "source": [
    "### 3. P value -->"
   ]
  },
  {
   "cell_type": "markdown",
   "metadata": {},
   "source": [
    "Every event has some probabiity associated to it. As an example tossing a coin has 50/50 probability of giving heads and tails.\n",
    "\n",
    "But how can the \"_fairness_\" of the coin be juged? How can it be juged that the coin is _fair_? This is were _hypotesis testing_ comes is.\n",
    "\n",
    "The coin can be a fair coin or an unfair coin. Then an assumption is made about the _state_ of the coin and by tossing it the assumption is tested. It the coin is fair we expect a mix of heads and tail. But it we to see the same outcome again and again it seems to get <u>sus</u>.\n",
    "\n",
    "That sus feeling, the point at which it feels that maybe the initial hypothesis, called the \"_null hypothesis_\" was incorrect is called the _**P**_ value of the hypothesis."
   ]
  },
  {
   "cell_type": "markdown",
   "metadata": {},
   "source": [
    "### 4. How to build a model? -->"
   ]
  },
  {
   "cell_type": "markdown",
   "metadata": {},
   "source": []
  },
  {
   "cell_type": "markdown",
   "metadata": {},
   "source": [
    "### 5. Building the model -->"
   ]
  },
  {
   "cell_type": "markdown",
   "metadata": {},
   "source": [
    "#### Data preprocessing =>"
   ]
  },
  {
   "cell_type": "code",
   "execution_count": 67,
   "metadata": {},
   "outputs": [],
   "source": [
    "import numpy as np\n",
    "import pandas as pd\n",
    "import matplotlib.pyplot as plt"
   ]
  },
  {
   "cell_type": "code",
   "execution_count": 68,
   "metadata": {},
   "outputs": [],
   "source": [
    "# importing the dataset -->\n",
    "raw_data = pd.read_csv(\"data/50_Startups.csv\")"
   ]
  },
  {
   "cell_type": "code",
   "execution_count": 69,
   "metadata": {},
   "outputs": [
    {
     "data": {
      "text/html": [
       "<div>\n",
       "<style scoped>\n",
       "    .dataframe tbody tr th:only-of-type {\n",
       "        vertical-align: middle;\n",
       "    }\n",
       "\n",
       "    .dataframe tbody tr th {\n",
       "        vertical-align: top;\n",
       "    }\n",
       "\n",
       "    .dataframe thead th {\n",
       "        text-align: right;\n",
       "    }\n",
       "</style>\n",
       "<table border=\"1\" class=\"dataframe\">\n",
       "  <thead>\n",
       "    <tr style=\"text-align: right;\">\n",
       "      <th></th>\n",
       "      <th>R&amp;D Spend</th>\n",
       "      <th>Administration</th>\n",
       "      <th>Marketing Spend</th>\n",
       "      <th>Profit</th>\n",
       "    </tr>\n",
       "  </thead>\n",
       "  <tbody>\n",
       "    <tr>\n",
       "      <th>count</th>\n",
       "      <td>50.000000</td>\n",
       "      <td>50.000000</td>\n",
       "      <td>50.000000</td>\n",
       "      <td>50.000000</td>\n",
       "    </tr>\n",
       "    <tr>\n",
       "      <th>mean</th>\n",
       "      <td>73721.615600</td>\n",
       "      <td>121344.639600</td>\n",
       "      <td>211025.097800</td>\n",
       "      <td>112012.639200</td>\n",
       "    </tr>\n",
       "    <tr>\n",
       "      <th>std</th>\n",
       "      <td>45902.256482</td>\n",
       "      <td>28017.802755</td>\n",
       "      <td>122290.310726</td>\n",
       "      <td>40306.180338</td>\n",
       "    </tr>\n",
       "    <tr>\n",
       "      <th>min</th>\n",
       "      <td>0.000000</td>\n",
       "      <td>51283.140000</td>\n",
       "      <td>0.000000</td>\n",
       "      <td>14681.400000</td>\n",
       "    </tr>\n",
       "    <tr>\n",
       "      <th>25%</th>\n",
       "      <td>39936.370000</td>\n",
       "      <td>103730.875000</td>\n",
       "      <td>129300.132500</td>\n",
       "      <td>90138.902500</td>\n",
       "    </tr>\n",
       "    <tr>\n",
       "      <th>50%</th>\n",
       "      <td>73051.080000</td>\n",
       "      <td>122699.795000</td>\n",
       "      <td>212716.240000</td>\n",
       "      <td>107978.190000</td>\n",
       "    </tr>\n",
       "    <tr>\n",
       "      <th>75%</th>\n",
       "      <td>101602.800000</td>\n",
       "      <td>144842.180000</td>\n",
       "      <td>299469.085000</td>\n",
       "      <td>139765.977500</td>\n",
       "    </tr>\n",
       "    <tr>\n",
       "      <th>max</th>\n",
       "      <td>165349.200000</td>\n",
       "      <td>182645.560000</td>\n",
       "      <td>471784.100000</td>\n",
       "      <td>192261.830000</td>\n",
       "    </tr>\n",
       "  </tbody>\n",
       "</table>\n",
       "</div>"
      ],
      "text/plain": [
       "           R&D Spend  Administration  Marketing Spend         Profit\n",
       "count      50.000000       50.000000        50.000000      50.000000\n",
       "mean    73721.615600   121344.639600    211025.097800  112012.639200\n",
       "std     45902.256482    28017.802755    122290.310726   40306.180338\n",
       "min         0.000000    51283.140000         0.000000   14681.400000\n",
       "25%     39936.370000   103730.875000    129300.132500   90138.902500\n",
       "50%     73051.080000   122699.795000    212716.240000  107978.190000\n",
       "75%    101602.800000   144842.180000    299469.085000  139765.977500\n",
       "max    165349.200000   182645.560000    471784.100000  192261.830000"
      ]
     },
     "execution_count": 69,
     "metadata": {},
     "output_type": "execute_result"
    }
   ],
   "source": [
    "# data description -->\n",
    "raw_data.describe()"
   ]
  },
  {
   "cell_type": "code",
   "execution_count": 70,
   "metadata": {},
   "outputs": [
    {
     "name": "stdout",
     "output_type": "stream",
     "text": [
      "<class 'pandas.core.frame.DataFrame'>\n",
      "RangeIndex: 50 entries, 0 to 49\n",
      "Data columns (total 5 columns):\n",
      " #   Column           Non-Null Count  Dtype  \n",
      "---  ------           --------------  -----  \n",
      " 0   R&D Spend        50 non-null     float64\n",
      " 1   Administration   50 non-null     float64\n",
      " 2   Marketing Spend  50 non-null     float64\n",
      " 3   State            50 non-null     object \n",
      " 4   Profit           50 non-null     float64\n",
      "dtypes: float64(4), object(1)\n",
      "memory usage: 2.1+ KB\n"
     ]
    }
   ],
   "source": [
    "raw_data.info()"
   ]
  },
  {
   "cell_type": "code",
   "execution_count": 71,
   "metadata": {},
   "outputs": [],
   "source": [
    "# creating the train-test split -->\n",
    "from sklearn.model_selection import train_test_split\n",
    "train_data, test_data = train_test_split(raw_data, test_size=0.2, random_state=42)"
   ]
  },
  {
   "cell_type": "code",
   "execution_count": 72,
   "metadata": {},
   "outputs": [],
   "source": [
    "# using pipelines and column transformers to pre-process data -->\n",
    "from sklearn.pipeline import Pipeline\n",
    "from sklearn.compose import ColumnTransformer\n",
    "from sklearn.impute import SimpleImputer\n",
    "from sklearn.preprocessing import OneHotEncoder, StandardScaler"
   ]
  },
  {
   "cell_type": "code",
   "execution_count": 73,
   "metadata": {},
   "outputs": [],
   "source": [
    "def split_xy(dataset: pd.DataFrame, target: str) -> tuple[pd.DataFrame, pd.DataFrame]:\n",
    "    # split the data in X and y\n",
    "    X = dataset.drop(target, axis=1)\n",
    "    y = dataset[target].copy()\n",
    "\n",
    "    return X, y"
   ]
  },
  {
   "cell_type": "code",
   "execution_count": 74,
   "metadata": {},
   "outputs": [],
   "source": [
    "def get_nums_cats(X: pd.DataFrame, cat_vars: list) -> tuple[pd.DataFrame, pd.DataFrame]:\n",
    "    X_nums = X.select_dtypes([np.number])\n",
    "    X_cats = X[cat_vars]\n",
    "\n",
    "    return X_nums, X_cats"
   ]
  },
  {
   "cell_type": "code",
   "execution_count": 75,
   "metadata": {},
   "outputs": [],
   "source": [
    "X_train, y_train = split_xy(train_data, \"Profit\")"
   ]
  },
  {
   "cell_type": "code",
   "execution_count": 76,
   "metadata": {},
   "outputs": [],
   "source": [
    "X_train_num, X_train_cat= get_nums_cats(X_train, [\"State\"])"
   ]
  },
  {
   "cell_type": "code",
   "execution_count": 77,
   "metadata": {},
   "outputs": [],
   "source": [
    "# applying the column transformer -->\n",
    "num_cols = X_train_num.columns\n",
    "cat_cols = X_train_cat.columns\n",
    "\n",
    "num_pipeline = Pipeline([\n",
    "    (\"imputer\", SimpleImputer(strategy=\"median\")),\n",
    "    (\"std_scaler\", StandardScaler())\n",
    "])\n",
    "\n",
    "X_train_num_pl = num_pipeline.fit_transform(X_train_num)\n",
    "\n",
    "full_pipeline = ColumnTransformer([\n",
    "    (\"num\", num_pipeline, num_cols),\n",
    "    (\"cat\", OneHotEncoder(), cat_cols)\n",
    "])\n",
    "\n",
    "X_train_prepared = full_pipeline.fit_transform(X_train)"
   ]
  },
  {
   "cell_type": "code",
   "execution_count": 78,
   "metadata": {},
   "outputs": [
    {
     "data": {
      "text/plain": [
       "array([[ 0.34202149,  0.22787678,  0.12425038,  0.        ,  1.        ,\n",
       "         0.        ],\n",
       "       [ 1.36207849, -1.0974737 ,  1.14990688,  0.        ,  1.        ,\n",
       "         0.        ],\n",
       "       [-0.71081297, -2.5770186 , -0.34136825,  1.        ,  0.        ,\n",
       "         0.        ],\n",
       "       [ 0.90611438,  1.0172367 ,  0.66890185,  0.        ,  0.        ,\n",
       "         1.        ],\n",
       "       [ 1.40997088, -0.09115403,  1.30006861,  0.        ,  0.        ,\n",
       "         1.        ],\n",
       "       [ 1.20367103,  0.96116332, -0.95248784,  1.        ,  0.        ,\n",
       "         0.        ],\n",
       "       [-1.05285826, -1.34392538, -0.62843389,  0.        ,  1.        ,\n",
       "         0.        ],\n",
       "       [-1.61480906, -0.19649414,  0.54106768,  0.        ,  1.        ,\n",
       "         0.        ],\n",
       "       [-1.642623  ,  0.52691442, -2.07854935,  1.        ,  0.        ,\n",
       "         0.        ],\n",
       "       [ 0.77885123,  0.05437051,  0.2294954 ,  0.        ,  0.        ,\n",
       "         1.        ],\n",
       "       [ 0.96515572, -0.45976843,  0.61043134,  1.        ,  0.        ,\n",
       "         0.        ],\n",
       "       [ 0.00687736,  0.01677049,  0.25215324,  1.        ,  0.        ,\n",
       "         0.        ],\n",
       "       [-0.01361318, -0.80643974, -0.83912073,  0.        ,  0.        ,\n",
       "         1.        ],\n",
       "       [-0.66099544,  1.34830937, -0.2199755 ,  1.        ,  0.        ,\n",
       "         0.        ],\n",
       "       [-0.34996231,  1.16416226, -1.30074144,  0.        ,  0.        ,\n",
       "         1.        ],\n",
       "       [ 1.85350175,  0.58117289,  2.08110569,  0.        ,  0.        ,\n",
       "         1.        ],\n",
       "       [-1.17369938,  1.24178366, -1.82872605,  1.        ,  0.        ,\n",
       "         0.        ],\n",
       "       [-0.11798808,  0.24795036,  1.03542337,  0.        ,  0.        ,\n",
       "         1.        ],\n",
       "       [-0.46926521, -0.66714345, -0.18614397,  0.        ,  1.        ,\n",
       "         0.        ],\n",
       "       [ 1.14576723, -0.78676456,  1.12074899,  0.        ,  0.        ,\n",
       "         1.        ],\n",
       "       [-0.25546817,  1.17634061, -1.1339251 ,  0.        ,  0.        ,\n",
       "         1.        ],\n",
       "       [ 0.48597351, -1.08276111,  0.12341374,  1.        ,  0.        ,\n",
       "         0.        ],\n",
       "       [-1.03655971,  0.21813196, -0.30524204,  0.        ,  1.        ,\n",
       "         0.        ],\n",
       "       [ 1.79532434,  1.11530979,  1.83524249,  1.        ,  0.        ,\n",
       "         0.        ],\n",
       "       [ 0.01483507,  1.2036886 ,  0.56419281,  0.        ,  0.        ,\n",
       "         1.        ],\n",
       "       [ 1.6017269 , -0.73767194,  1.51815297,  0.        ,  1.        ,\n",
       "         0.        ],\n",
       "       [-1.3147716 ,  0.23016091, -1.7652495 ,  0.        ,  0.        ,\n",
       "         1.        ],\n",
       "       [-0.66970778, -1.33150615, -0.26652879,  0.        ,  0.        ,\n",
       "         1.        ],\n",
       "       [-0.21472284, -0.56778295,  0.60855432,  0.        ,  1.        ,\n",
       "         0.        ],\n",
       "       [-1.03464471, -0.09579459, -0.55503387,  1.        ,  0.        ,\n",
       "         0.        ],\n",
       "       [ 0.51221561, -0.38912928, -0.058069  ,  0.        ,  1.        ,\n",
       "         0.        ],\n",
       "       [-0.07809041,  0.06049067,  0.59577454,  0.        ,  1.        ,\n",
       "         0.        ],\n",
       "       [ 0.29731084, -0.25700668,  0.52171564,  0.        ,  1.        ,\n",
       "         0.        ],\n",
       "       [-1.642623  , -0.15342356, -1.68026474,  1.        ,  0.        ,\n",
       "         0.        ],\n",
       "       [-0.03032003, -0.26838639,  0.5547339 ,  1.        ,  0.        ,\n",
       "         0.        ],\n",
       "       [ 1.11238589,  0.89960352,  0.77702646,  0.        ,  1.        ,\n",
       "         0.        ],\n",
       "       [-1.14276186, -0.92048811, -0.77364407,  1.        ,  0.        ,\n",
       "         0.        ],\n",
       "       [ 0.89344327,  1.30601677,  0.18308953,  0.        ,  1.        ,\n",
       "         0.        ],\n",
       "       [-0.24603715,  2.26873651, -1.03685304,  0.        ,  1.        ,\n",
       "         0.        ],\n",
       "       [-1.21489084, -2.03605733, -0.44509263,  0.        ,  0.        ,\n",
       "         1.        ]])"
      ]
     },
     "execution_count": 78,
     "metadata": {},
     "output_type": "execute_result"
    }
   ],
   "source": [
    "X_train_prepared"
   ]
  },
  {
   "cell_type": "markdown",
   "metadata": {},
   "source": [
    "#### Training the model =>"
   ]
  },
  {
   "cell_type": "code",
   "execution_count": 79,
   "metadata": {},
   "outputs": [],
   "source": [
    "from sklearn.linear_model import LinearRegression"
   ]
  },
  {
   "cell_type": "code",
   "execution_count": 80,
   "metadata": {},
   "outputs": [
    {
     "data": {
      "text/html": [
       "<style>#sk-container-id-5 {color: black;background-color: white;}#sk-container-id-5 pre{padding: 0;}#sk-container-id-5 div.sk-toggleable {background-color: white;}#sk-container-id-5 label.sk-toggleable__label {cursor: pointer;display: block;width: 100%;margin-bottom: 0;padding: 0.3em;box-sizing: border-box;text-align: center;}#sk-container-id-5 label.sk-toggleable__label-arrow:before {content: \"▸\";float: left;margin-right: 0.25em;color: #696969;}#sk-container-id-5 label.sk-toggleable__label-arrow:hover:before {color: black;}#sk-container-id-5 div.sk-estimator:hover label.sk-toggleable__label-arrow:before {color: black;}#sk-container-id-5 div.sk-toggleable__content {max-height: 0;max-width: 0;overflow: hidden;text-align: left;background-color: #f0f8ff;}#sk-container-id-5 div.sk-toggleable__content pre {margin: 0.2em;color: black;border-radius: 0.25em;background-color: #f0f8ff;}#sk-container-id-5 input.sk-toggleable__control:checked~div.sk-toggleable__content {max-height: 200px;max-width: 100%;overflow: auto;}#sk-container-id-5 input.sk-toggleable__control:checked~label.sk-toggleable__label-arrow:before {content: \"▾\";}#sk-container-id-5 div.sk-estimator input.sk-toggleable__control:checked~label.sk-toggleable__label {background-color: #d4ebff;}#sk-container-id-5 div.sk-label input.sk-toggleable__control:checked~label.sk-toggleable__label {background-color: #d4ebff;}#sk-container-id-5 input.sk-hidden--visually {border: 0;clip: rect(1px 1px 1px 1px);clip: rect(1px, 1px, 1px, 1px);height: 1px;margin: -1px;overflow: hidden;padding: 0;position: absolute;width: 1px;}#sk-container-id-5 div.sk-estimator {font-family: monospace;background-color: #f0f8ff;border: 1px dotted black;border-radius: 0.25em;box-sizing: border-box;margin-bottom: 0.5em;}#sk-container-id-5 div.sk-estimator:hover {background-color: #d4ebff;}#sk-container-id-5 div.sk-parallel-item::after {content: \"\";width: 100%;border-bottom: 1px solid gray;flex-grow: 1;}#sk-container-id-5 div.sk-label:hover label.sk-toggleable__label {background-color: #d4ebff;}#sk-container-id-5 div.sk-serial::before {content: \"\";position: absolute;border-left: 1px solid gray;box-sizing: border-box;top: 0;bottom: 0;left: 50%;z-index: 0;}#sk-container-id-5 div.sk-serial {display: flex;flex-direction: column;align-items: center;background-color: white;padding-right: 0.2em;padding-left: 0.2em;position: relative;}#sk-container-id-5 div.sk-item {position: relative;z-index: 1;}#sk-container-id-5 div.sk-parallel {display: flex;align-items: stretch;justify-content: center;background-color: white;position: relative;}#sk-container-id-5 div.sk-item::before, #sk-container-id-5 div.sk-parallel-item::before {content: \"\";position: absolute;border-left: 1px solid gray;box-sizing: border-box;top: 0;bottom: 0;left: 50%;z-index: -1;}#sk-container-id-5 div.sk-parallel-item {display: flex;flex-direction: column;z-index: 1;position: relative;background-color: white;}#sk-container-id-5 div.sk-parallel-item:first-child::after {align-self: flex-end;width: 50%;}#sk-container-id-5 div.sk-parallel-item:last-child::after {align-self: flex-start;width: 50%;}#sk-container-id-5 div.sk-parallel-item:only-child::after {width: 0;}#sk-container-id-5 div.sk-dashed-wrapped {border: 1px dashed gray;margin: 0 0.4em 0.5em 0.4em;box-sizing: border-box;padding-bottom: 0.4em;background-color: white;}#sk-container-id-5 div.sk-label label {font-family: monospace;font-weight: bold;display: inline-block;line-height: 1.2em;}#sk-container-id-5 div.sk-label-container {text-align: center;}#sk-container-id-5 div.sk-container {/* jupyter's `normalize.less` sets `[hidden] { display: none; }` but bootstrap.min.css set `[hidden] { display: none !important; }` so we also need the `!important` here to be able to override the default hidden behavior on the sphinx rendered scikit-learn.org. See: https://github.com/scikit-learn/scikit-learn/issues/21755 */display: inline-block !important;position: relative;}#sk-container-id-5 div.sk-text-repr-fallback {display: none;}</style><div id=\"sk-container-id-5\" class=\"sk-top-container\"><div class=\"sk-text-repr-fallback\"><pre>LinearRegression()</pre><b>In a Jupyter environment, please rerun this cell to show the HTML representation or trust the notebook. <br />On GitHub, the HTML representation is unable to render, please try loading this page with nbviewer.org.</b></div><div class=\"sk-container\" hidden><div class=\"sk-item\"><div class=\"sk-estimator sk-toggleable\"><input class=\"sk-toggleable__control sk-hidden--visually\" id=\"sk-estimator-id-5\" type=\"checkbox\" checked><label for=\"sk-estimator-id-5\" class=\"sk-toggleable__label sk-toggleable__label-arrow\">LinearRegression</label><div class=\"sk-toggleable__content\"><pre>LinearRegression()</pre></div></div></div></div></div>"
      ],
      "text/plain": [
       "LinearRegression()"
      ]
     },
     "execution_count": 80,
     "metadata": {},
     "output_type": "execute_result"
    }
   ],
   "source": [
    "linear_model: LinearRegression = LinearRegression()\n",
    "linear_model.fit(X_train_prepared, y_train)"
   ]
  },
  {
   "cell_type": "code",
   "execution_count": 81,
   "metadata": {},
   "outputs": [
    {
     "name": "stdout",
     "output_type": "stream",
     "text": [
      "[0.34202149 0.22787678 0.12425038 0.         1.         0.        ] -> 192261.83\n"
     ]
    }
   ],
   "source": [
    "print(f\"{X_train_prepared[0]} -> {y_train[0]}\")"
   ]
  },
  {
   "cell_type": "code",
   "execution_count": 82,
   "metadata": {},
   "outputs": [],
   "source": [
    "# calculating the error -->\n",
    "from sklearn.metrics import mean_squared_error\n",
    "y_predicted = linear_model.predict(X_train_prepared)"
   ]
  },
  {
   "cell_type": "code",
   "execution_count": 83,
   "metadata": {},
   "outputs": [
    {
     "name": "stdout",
     "output_type": "stream",
     "text": [
      "MSE: 79700060.0825932, RMSE: 8927.489013300055\n"
     ]
    }
   ],
   "source": [
    "mse = mean_squared_error(y_train, y_predicted)\n",
    "rmse = np.sqrt(mse)\n",
    "print(f\"MSE: {mse}, RMSE: {rmse}\")"
   ]
  },
  {
   "cell_type": "markdown",
   "metadata": {},
   "source": [
    "#### Evaluation on the test set =>"
   ]
  },
  {
   "cell_type": "code",
   "execution_count": 87,
   "metadata": {},
   "outputs": [],
   "source": [
    "X_test, y_test = split_xy(test_data, \"Profit\")"
   ]
  },
  {
   "cell_type": "code",
   "execution_count": 88,
   "metadata": {},
   "outputs": [],
   "source": [
    "# applying the column transformer -->\n",
    "X_test_prepared = full_pipeline.transform(X_test)"
   ]
  },
  {
   "cell_type": "code",
   "execution_count": 90,
   "metadata": {},
   "outputs": [
    {
     "name": "stdout",
     "output_type": "stream",
     "text": [
      "MSE: 82010363.04501358, RMSE: 9055.957323497807\n"
     ]
    }
   ],
   "source": [
    "y_final_predict = linear_model.predict(X_test_prepared)\n",
    "mse = mean_squared_error(y_test, y_final_predict)\n",
    "rmse = np.sqrt(mse)\n",
    "print(f\"MSE: {mse}, RMSE: {rmse}\")"
   ]
  }
 ],
 "metadata": {
  "kernelspec": {
   "display_name": "Python 3.10.6 64-bit",
   "language": "python",
   "name": "python3"
  },
  "language_info": {
   "codemirror_mode": {
    "name": "ipython",
    "version": 3
   },
   "file_extension": ".py",
   "mimetype": "text/x-python",
   "name": "python",
   "nbconvert_exporter": "python",
   "pygments_lexer": "ipython3",
   "version": "3.10.6"
  },
  "orig_nbformat": 4,
  "vscode": {
   "interpreter": {
    "hash": "e7370f93d1d0cde622a1f8e1c04877d8463912d04d973331ad4851f04de6915a"
   }
  }
 },
 "nbformat": 4,
 "nbformat_minor": 2
}
