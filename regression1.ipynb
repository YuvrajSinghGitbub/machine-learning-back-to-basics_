{
 "cells": [
  {
   "cell_type": "markdown",
   "metadata": {},
   "source": [
    "# Multiple Linear Regression"
   ]
  },
  {
   "cell_type": "markdown",
   "metadata": {},
   "source": [
    "In multiple linear regression we have **many** independent variables and only **one** dependent vatiable."
   ]
  },
  {
   "cell_type": "markdown",
   "metadata": {},
   "source": [
    "### 1. Assumptions of a linear regression models -->"
   ]
  },
  {
   "cell_type": "markdown",
   "metadata": {},
   "source": [
    "Each LR(linear regression) model has some set of assumptions. The major of them are:\n",
    ">    1. linearity,\n",
    ">    2. honoscedosticity,\n",
    ">    3. multivatient normality,\n",
    ">    4. independance of errors, and\n",
    ">    5. lack of multicollinearity."
   ]
  },
  {
   "cell_type": "markdown",
   "metadata": {},
   "source": [
    "### 2. Dummy variables -->"
   ]
  },
  {
   "cell_type": "markdown",
   "metadata": {},
   "source": [
    "Dummy variables are one way to handel categorical value. The idea is to create different features derived from the different categories. Example:\n",
    "> colors: {red, blue, green, red, green}\n",
    "\n",
    "Here the three categories are {red, blue, green}. The three different columns are created what will hold boolean values. If the i<sup>th</sup> was red then only the _red_ column will have 1 in it and all other zeros. This is repeated for every training example.\n",
    "\n",
    "This is a great way to handel categorical values, but it can lead to some problems. The major one is the _multi-collinearity_."
   ]
  },
  {
   "cell_type": "markdown",
   "metadata": {},
   "source": [
    "### 3. P value -->"
   ]
  },
  {
   "cell_type": "markdown",
   "metadata": {},
   "source": [
    "Every event has some probabiity associated to it. As an example tossing a coin has 50/50 probability of giving heads and tails.\n",
    "\n",
    "But how can the \"_fairness_\" of the coin be juged? How can it be juged that the coin is _fair_? This is were _hypotesis testing_ comes is.\n",
    "\n",
    "The coin can be a fair coin or an unfair coin. Then an assumption is made about the _state_ of the coin and by tossing it the assumption is tested. It the coin is fair we expect a mix of heads and tail. But it we to see the same outcome again and again it seems to get <u>sus</u>.\n",
    "\n",
    "That sus feeling, the point at which it feels that maybe the initial hypothesis, called the \"_null hypothesis_\" was incorrect is called the _**P**_ value of the hypothesis."
   ]
  },
  {
   "cell_type": "markdown",
   "metadata": {},
   "source": [
    "### 4. How to build a model? -->"
   ]
  },
  {
   "cell_type": "markdown",
   "metadata": {},
   "source": []
  }
 ],
 "metadata": {
  "kernelspec": {
   "display_name": "Python 3.10.6 64-bit",
   "language": "python",
   "name": "python3"
  },
  "language_info": {
   "name": "python",
   "version": "3.10.6"
  },
  "orig_nbformat": 4,
  "vscode": {
   "interpreter": {
    "hash": "e7370f93d1d0cde622a1f8e1c04877d8463912d04d973331ad4851f04de6915a"
   }
  }
 },
 "nbformat": 4,
 "nbformat_minor": 2
}
